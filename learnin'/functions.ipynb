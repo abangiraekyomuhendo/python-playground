{
 "cells": [
  {
   "cell_type": "markdown",
   "metadata": {},
   "source": [
    "Using jupyter notebooks because I need to able to run code step by step for learning purposes\n"
   ]
  },
  {
   "cell_type": "code",
   "execution_count": 1,
   "metadata": {},
   "outputs": [
    {
     "name": "stdout",
     "output_type": "stream",
     "text": [
      "Hi there\n",
      "Welcome!\n"
     ]
    }
   ],
   "source": [
    "def greet(): #def for define, followed by the name of the function.\n",
    "    print(\"Hi there\")\n",
    "    print(\"Welcome!\")\n",
    "    #the indentation here tells us that the lines of code belong in this function\n",
    "\n",
    "#now we step out of the function to print or use the function \n",
    "greet() #call the function name "
   ]
  },
  {
   "cell_type": "code",
   "execution_count": null,
   "metadata": {},
   "outputs": [
    {
     "name": "stdout",
     "output_type": "stream",
     "text": [
      "Hi abangira precious\n"
     ]
    }
   ],
   "source": [
    "def greet_name(first_name, last_name): #parameters\n",
    "    print(f\"Hi {first_name} {last_name}\")\n",
    "\n",
    "greet_name(\"abangira\", \"precious\") #arguments inside here"
   ]
  },
  {
   "cell_type": "code",
   "execution_count": null,
   "metadata": {},
   "outputs": [],
   "source": [
    "#1. perform a task\n",
    "#print, etc\n",
    "#2.return a value "
   ]
  },
  {
   "cell_type": "code",
   "execution_count": null,
   "metadata": {},
   "outputs": [],
   "source": []
  }
 ],
 "metadata": {
  "kernelspec": {
   "display_name": "Python 3",
   "language": "python",
   "name": "python3"
  },
  "language_info": {
   "codemirror_mode": {
    "name": "ipython",
    "version": 3
   },
   "file_extension": ".py",
   "mimetype": "text/x-python",
   "name": "python",
   "nbconvert_exporter": "python",
   "pygments_lexer": "ipython3",
   "version": "3.12.5"
  }
 },
 "nbformat": 4,
 "nbformat_minor": 2
}
